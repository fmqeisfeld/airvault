{
 "cells": [
  {
   "cell_type": "code",
   "execution_count": 1,
   "id": "817cdaed",
   "metadata": {},
   "outputs": [],
   "source": [
    "import yaml"
   ]
  },
  {
   "cell_type": "code",
   "execution_count": 8,
   "id": "c148dea8",
   "metadata": {},
   "outputs": [],
   "source": [
    "from collections import defaultdict"
   ]
  },
  {
   "cell_type": "code",
   "execution_count": 55,
   "id": "59d69cec",
   "metadata": {},
   "outputs": [],
   "source": [
    "with open('dags/configs/conf.yaml', \"r\") as config_file:\n",
    "    conf_all = yaml.safe_load(config_file)"
   ]
  },
  {
   "cell_type": "code",
   "execution_count": 56,
   "id": "966a73db",
   "metadata": {},
   "outputs": [
    {
     "data": {
      "text/plain": [
       "{'connection': {'host': '172.22.0.1',\n",
       "  'db': 'dv2',\n",
       "  'port': 5432,\n",
       "  'user': 'postgres',\n",
       "  'pw': 'postgres',\n",
       "  'schemas': {'stage': 'stage', 'edwh': 'vault'}},\n",
       " 'rv': {'hubs': {'hub_tax_bundle': {'hk': 'hk_tax_bundle',\n",
       "    'bk': 'tax_bundle_id',\n",
       "    'overwrite': False,\n",
       "    'src': {'v_report_taxation_bundle': {'bk': 'tax_bundle_id',\n",
       "      'bkeycode': 'default',\n",
       "      'tenant': 'default'},\n",
       "     'v_report_ziffer': {'bk': 'tax_bundle_id'}}}}}}"
      ]
     },
     "execution_count": 56,
     "metadata": {},
     "output_type": "execute_result"
    }
   ],
   "source": [
    "conf_all"
   ]
  },
  {
   "cell_type": "code",
   "execution_count": 57,
   "id": "e50fefd0",
   "metadata": {},
   "outputs": [],
   "source": [
    "def defaultify(d):\n",
    "    if isinstance(d, dict):\n",
    "        return defaultdict(lambda: None, {k: defaultify(v) for k, v in d.items()})\n",
    "    elif isinstance(d, list):\n",
    "        return [defaultify(e) for e in d]\n",
    "    else:\n",
    "        return d"
   ]
  },
  {
   "cell_type": "code",
   "execution_count": 58,
   "id": "54cd3992",
   "metadata": {},
   "outputs": [],
   "source": [
    "dconf=defaultify(conf_all)"
   ]
  },
  {
   "cell_type": "code",
   "execution_count": 83,
   "id": "ce8ab45a",
   "metadata": {},
   "outputs": [
    {
     "data": {
      "text/plain": [
       "{'connection': defaultdict(<function __main__.defaultify.<locals>.<lambda>()>,\n",
       "             {'host': '172.22.0.1',\n",
       "              'db': 'dv2',\n",
       "              'port': 5432,\n",
       "              'user': 'postgres',\n",
       "              'pw': 'postgres',\n",
       "              'schemas': defaultdict(<function __main__.defaultify.<locals>.<lambda>()>,\n",
       "                          {'stage': 'stage', 'edwh': 'vault'})}),\n",
       " 'rv': defaultdict(<function __main__.defaultify.<locals>.<lambda>()>,\n",
       "             {'hubs': defaultdict(<function __main__.defaultify.<locals>.<lambda>()>,\n",
       "                          {'hub_tax_bundle': defaultdict(<function __main__.defaultify.<locals>.<lambda>()>,\n",
       "                                       {'hk': 'hk_tax_bundle',\n",
       "                                        'bk': 'tax_bundle_id',\n",
       "                                        'overwrite': False,\n",
       "                                        'src': defaultdict(<function __main__.defaultify.<locals>.<lambda>()>,\n",
       "                                                    {'v_report_taxation_bundle': defaultdict(<function __main__.defaultify.<locals>.<lambda>()>,\n",
       "                                                                 {'bk': 'tax_bundle_id',\n",
       "                                                                  'bkeycode': 'default',\n",
       "                                                                  'tenant': 'default'}),\n",
       "                                                     'v_report_ziffer': defaultdict(<function __main__.defaultify.<locals>.<lambda>()>,\n",
       "                                                                 {'bk': 'tax_bundle_id',\n",
       "                                                                  'tenant': None,\n",
       "                                                                  'bkeycode': None})})})})})}"
      ]
     },
     "execution_count": 83,
     "metadata": {},
     "output_type": "execute_result"
    }
   ],
   "source": [
    "dconf."
   ]
  },
  {
   "cell_type": "markdown",
   "id": "97d8aa24",
   "metadata": {},
   "source": [
    "# hubs"
   ]
  },
  {
   "cell_type": "markdown",
   "id": "9d4c3334",
   "metadata": {},
   "source": [
    "\n",
    "## loader"
   ]
  },
  {
   "cell_type": "code",
   "execution_count": 79,
   "id": "b6d60ad9",
   "metadata": {},
   "outputs": [],
   "source": [
    "sql= open('./dags/sql/hub_loader.sql','r').read()"
   ]
  },
  {
   "cell_type": "code",
   "execution_count": 66,
   "id": "b875fbf3",
   "metadata": {},
   "outputs": [
    {
     "data": {
      "text/plain": [
       "\"with cte (hk,bk,dv_loadts,dv_appts,dv_recsrc,dv_tenant,dv_bkeycode,dv_taskid) as (\\n\\tselect md5(concat_ws('|',\\n\\t\\t\\t   {tenant},{bkeycode},\\n\\t\\t\\t   trim(src.{bk_src}::varchar(256),\\n\\t)) \\n\\t, trim(src.{bk_src}::varchar(256))\\n\\t, current_timestamp \\n\\t, coalesce({appts::timestamp},current_timestamp))\\n\\t, {rec_src}\\n\\t, {tenant}\\n\\t, {bkeycode}\\n\\t, {taskid}\\t\\n\\tfrom {schema_src}.{table_src} src\\n)\\ninsert into {schema_tgt}.{table_tgt} (\\n\\t\\t{hk_tgt}\\n\\t  , {bk_tgt}\\n\\t  , dv_loadts\\n\\t  , dv_appts\\n\\t  , dv_recsrc\\n\\t  , dv_tenant\\n\\t  , dv_bkeycode\\n\\t  , dv_taskid\\n\\t)\\nselect distinct \\n\\thk\\n  , bk\\n  , dv_loadts\\n  , dv_appts\\n  , dv_recsrc\\n  , dv_tenant\\n  , dv_bkeycode\\n  , dv_taskid\\nfrom cte\\nwhere not exists \\n(\\n\\tselect 1 from {schema_tgt}.{table_tgt} tgt\\n\\twhere cte.hk = tgt.{hk_tgt}\\n);\""
      ]
     },
     "execution_count": 66,
     "metadata": {},
     "output_type": "execute_result"
    }
   ],
   "source": [
    "sql"
   ]
  },
  {
   "cell_type": "code",
   "execution_count": 80,
   "id": "47a61665",
   "metadata": {},
   "outputs": [
    {
     "name": "stdout",
     "output_type": "stream",
     "text": [
      "\n",
      "with cte (hk,bk,dv_loadts,dv_appts,dv_recsrc,dv_tenant,dv_bkeycode,dv_taskid) as (\n",
      "\tselect md5(concat_ws('|',\n",
      "\t\t\t   default,default,\n",
      "\t\t\t   trim(src.tax_bundle_id::varchar(256),\n",
      "\t)) \n",
      "\t, trim(src.tax_bundle_id::varchar(256))\n",
      "\t, current_timestamp \n",
      "\t, coalesce(current_timestamp::timestamp,current_timestamp)\n",
      "\t, v_report_taxation_bundle\n",
      "\t, \"default\"\n",
      "\t, \"default\"\n",
      "\t, 1234\t\n",
      "\tfrom stage.v_report_taxation_bundle src\n",
      ")\n",
      "insert into vault.hub_tax_bundle (\n",
      "\t\thk_tax_bundle\n",
      "\t  , tax_bundle_id\n",
      "\t  , dv_loadts\n",
      "\t  , dv_appts\n",
      "\t  , dv_recsrc\n",
      "\t  , dv_tenant\n",
      "\t  , dv_bkeycode\n",
      "\t  , dv_taskid\n",
      "\t)\n",
      "select distinct \n",
      "\thk\n",
      "  , bk\n",
      "  , dv_loadts\n",
      "  , dv_appts\n",
      "  , dv_recsrc\n",
      "  , dv_tenant\n",
      "  , dv_bkeycode\n",
      "  , dv_taskid\n",
      "from cte\n",
      "where not exists \n",
      "(\n",
      "\tselect 1 from vault.hub_tax_bundle tgt\n",
      "\twhere cte.hk = tgt.hk_tax_bundle\n",
      ");\n",
      "with cte (hk,bk,dv_loadts,dv_appts,dv_recsrc,dv_tenant,dv_bkeycode,dv_taskid) as (\n",
      "\tselect md5(concat_ws('|',\n",
      "\t\t\t   default,default,\n",
      "\t\t\t   trim(src.tax_bundle_id::varchar(256),\n",
      "\t)) \n",
      "\t, trim(src.tax_bundle_id::varchar(256))\n",
      "\t, current_timestamp \n",
      "\t, coalesce(current_timestamp::timestamp,current_timestamp)\n",
      "\t, v_report_ziffer\n",
      "\t, \"default\"\n",
      "\t, \"default\"\n",
      "\t, 1234\t\n",
      "\tfrom stage.v_report_ziffer src\n",
      ")\n",
      "insert into vault.hub_tax_bundle (\n",
      "\t\thk_tax_bundle\n",
      "\t  , tax_bundle_id\n",
      "\t  , dv_loadts\n",
      "\t  , dv_appts\n",
      "\t  , dv_recsrc\n",
      "\t  , dv_tenant\n",
      "\t  , dv_bkeycode\n",
      "\t  , dv_taskid\n",
      "\t)\n",
      "select distinct \n",
      "\thk\n",
      "  , bk\n",
      "  , dv_loadts\n",
      "  , dv_appts\n",
      "  , dv_recsrc\n",
      "  , dv_tenant\n",
      "  , dv_bkeycode\n",
      "  , dv_taskid\n",
      "from cte\n",
      "where not exists \n",
      "(\n",
      "\tselect 1 from vault.hub_tax_bundle tgt\n",
      "\twhere cte.hk = tgt.hk_tax_bundle\n",
      ");\n"
     ]
    }
   ],
   "source": [
    "conf=dconf['rv']\n",
    "\n",
    "appts=None\n",
    "sql_concat=''\n",
    "hub='hub_tax_bundle'\n",
    "schema_stage='stage'\n",
    "schema_edwh='vault'\n",
    "\n",
    "for cur_src,cur_conf in conf['hubs'][hub]['src'].items():\n",
    "\n",
    "    params={'tenant':cur_conf['tenant'] if cur_conf['tenant'] else \"default\",\n",
    "            'bkeycode':cur_conf['bkeycode'] if cur_conf['bkeycode'] else \"default\",\n",
    "            'taskid': '1234',\n",
    "            'appts':'appts::timestamp' if appts else 'current_timestamp',\n",
    "            'rec_src':cur_src,\n",
    "            'bk_src':cur_conf['bk'],\n",
    "            'schema_src':schema_stage,\n",
    "            'table_src':cur_src,\n",
    "            'bk_tgt':conf['hubs'][hub]['bk'],\n",
    "            'hk_tgt':conf['hubs'][hub]['hk'],\n",
    "            'schema_tgt':schema_edwh,\n",
    "            'table_tgt':hub\n",
    "    }\n",
    "\n",
    "    #print(sql.format(**params))\n",
    "    sql_concat += '\\n'+sql.format(**params)\n",
    "    \n",
    "print(sql_concat)    "
   ]
  },
  {
   "cell_type": "markdown",
   "id": "c5184bf9",
   "metadata": {},
   "source": [
    "# links"
   ]
  },
  {
   "cell_type": "code",
   "execution_count": 108,
   "id": "e57939cc",
   "metadata": {},
   "outputs": [],
   "source": [
    "with open('dags/configs/conf.yaml', \"r\") as config_file:\n",
    "    conf = yaml.safe_load(config_file)"
   ]
  },
  {
   "cell_type": "code",
   "execution_count": 109,
   "id": "bbca96cd",
   "metadata": {},
   "outputs": [
    {
     "data": {
      "text/plain": [
       "{'connection': {'host': '172.22.0.1',\n",
       "  'db': 'dv2',\n",
       "  'port': 5432,\n",
       "  'user': 'postgres',\n",
       "  'pw': 'postgres',\n",
       "  'schemas': {'stage': 'stage', 'edwh': 'vault'}},\n",
       " 'rv': {'hubs': {'hub_tax_bundle': {'hk': 'hk_tax_bundle',\n",
       "    'bk': 'tax_bundle_id',\n",
       "    'overwrite': False,\n",
       "    'src': {'v_report_taxation_bundle': {'bk': 'tax_bundle_id',\n",
       "      'bkeycode': 'default',\n",
       "      'tenant': 'default'},\n",
       "     'v_report_ziffer': {'bk': 'tax_bundle_id'}}},\n",
       "   'hub_ziffer': {'hk': 'hk_ziffer',\n",
       "    'bk': 'ziffer',\n",
       "    'overwrite': False,\n",
       "    'src': {'v_report_dict_ziffer': {'bk': 'ziffer'}}}},\n",
       "  'links': {'lnk_taxbundle_ziffer': {'hk': 'hk_l_taxbundle_ziffer',\n",
       "    'overwrite': False,\n",
       "    'src': {'v_report_ziffer': {'bkeycode': 'default',\n",
       "      'tenant': 'default',\n",
       "      'bks': ['tax_bundle_id', 'ziffer']},\n",
       "     'v_report_taxation_bundle': {'bks': ['tax_bundle_id', 'ziffer'],\n",
       "      'bkeycode': 'default',\n",
       "      'tenant': 'default'}}}}}}"
      ]
     },
     "execution_count": 109,
     "metadata": {},
     "output_type": "execute_result"
    }
   ],
   "source": [
    "conf"
   ]
  },
  {
   "cell_type": "code",
   "execution_count": 86,
   "id": "fdf536c7",
   "metadata": {},
   "outputs": [],
   "source": [
    "dconf=defaultify(conf)"
   ]
  },
  {
   "cell_type": "markdown",
   "id": "e0a68d18",
   "metadata": {},
   "source": [
    "## link creator"
   ]
  },
  {
   "cell_type": "code",
   "execution_count": 87,
   "id": "6457d1f8",
   "metadata": {},
   "outputs": [],
   "source": [
    "sql= open('./dags/sql/link_creator.sql','r').read()"
   ]
  },
  {
   "cell_type": "code",
   "execution_count": 88,
   "id": "d2a9ba45",
   "metadata": {},
   "outputs": [
    {
     "data": {
      "text/plain": [
       "'CREATE TABLE {schema}.{link} (\\n\\t{hk} varchar(256) NOT NULL,\\n\\t{bk_list}\\n\\t-- technical fields\\n\\tDV_LOADTS timestamp NULL,\\n\\tDV_APPTS timestamp NULL,\\n\\tDV_RECSRC varchar(256) NULL,\\n\\tDV_TENANT varchar(256) NULL,\\n\\tDV_BKEYCODE varchar(256) NULL,\\n\\tDV_TASKID varchar(256) NULL,\\n    CONSTRAINT {link}_pkey PRIMARY KEY ({hk})\\n);'"
      ]
     },
     "execution_count": 88,
     "metadata": {},
     "output_type": "execute_result"
    }
   ],
   "source": [
    "sql"
   ]
  },
  {
   "cell_type": "code",
   "execution_count": 91,
   "id": "786783b0",
   "metadata": {},
   "outputs": [],
   "source": [
    "link='lnk_taxbundle_ziffer'"
   ]
  },
  {
   "cell_type": "code",
   "execution_count": 110,
   "id": "3d4d762f",
   "metadata": {},
   "outputs": [
    {
     "name": "stdout",
     "output_type": "stream",
     "text": [
      "['tax_bundle_id', 'ziffer']\n",
      "['tax_bundle_id', 'ziffer']\n"
     ]
    }
   ],
   "source": [
    "for cur_src, cur_conf in conf['rv']['links'][link]['src'].items():\n",
    "    \n",
    "    link_bks_dict=cur_conf['bks']    \n",
    "    print(link_bks_dict)\n"
   ]
  },
  {
   "cell_type": "code",
   "execution_count": 53,
   "id": "501a7360",
   "metadata": {},
   "outputs": [
    {
     "data": {
      "text/plain": [
       "{'tax_bundle_id': {'type': 'int'}, 'ziffer': {'type': 'int'}}"
      ]
     },
     "execution_count": 53,
     "metadata": {},
     "output_type": "execute_result"
    }
   ],
   "source": [
    "link_bks_dict"
   ]
  },
  {
   "cell_type": "code",
   "execution_count": 83,
   "id": "29f08f59",
   "metadata": {},
   "outputs": [
    {
     "data": {
      "text/plain": [
       "'tax_bundle_id int NOT NULL ,ziffer int NOT NULL ,'"
      ]
     },
     "execution_count": 83,
     "metadata": {},
     "output_type": "execute_result"
    }
   ],
   "source": [
    "link_bks=''\n",
    "for key,val in link_bks_dict.items():\n",
    "    #print(key,val)\n",
    "    link_bks += key + ' ' + val['type'] +' NOT NULL ,'    \n",
    "link_bks"
   ]
  },
  {
   "cell_type": "code",
   "execution_count": 84,
   "id": "13da7672",
   "metadata": {},
   "outputs": [],
   "source": [
    "params = {\n",
    "    'schema':conf['connection']['schemas']['edwh'],\n",
    "    'link':link,\n",
    "    'hk':conf['links'][link]['hk'],\n",
    "    'bk_list':link_bks\n",
    "}"
   ]
  },
  {
   "cell_type": "code",
   "execution_count": 85,
   "id": "58f462e4",
   "metadata": {},
   "outputs": [
    {
     "data": {
      "text/plain": [
       "'CREATE TABLE vault.l_taxbundle_ziffer (\\n\\thk_l_taxbundle_ziffer varchar(256) NOT NULL,\\n    load_dts timestamp NULL,     \\n    tax_bundle_id int NOT NULL ,ziffer int NOT NULL ,\\n    CONSTRAINT l_taxbundle_ziffer_pkey PRIMARY KEY (hk_l_taxbundle_ziffer)\\n);'"
      ]
     },
     "execution_count": 85,
     "metadata": {},
     "output_type": "execute_result"
    }
   ],
   "source": [
    "sql.format(**params)"
   ]
  },
  {
   "cell_type": "markdown",
   "id": "64764cf7",
   "metadata": {},
   "source": [
    "## link loader"
   ]
  },
  {
   "cell_type": "code",
   "execution_count": 131,
   "id": "4d2c483b",
   "metadata": {},
   "outputs": [],
   "source": [
    "sql= open('./dags/sql/link_loader.sql','r').read()"
   ]
  },
  {
   "cell_type": "code",
   "execution_count": 90,
   "id": "49f7304c",
   "metadata": {},
   "outputs": [],
   "source": [
    "link='l_taxbundle_ziffer'"
   ]
  },
  {
   "cell_type": "code",
   "execution_count": 91,
   "id": "563f318d",
   "metadata": {},
   "outputs": [],
   "source": [
    "link_bks_dict=conf['links'][link]['src']['bks']"
   ]
  },
  {
   "cell_type": "code",
   "execution_count": 133,
   "id": "a33352fa",
   "metadata": {},
   "outputs": [],
   "source": [
    "bk_concat_str=\"CONCAT_WS('|'\"\n",
    "bk_list=''\n",
    "bk_list2=''\n",
    "for key,val in link_bks_dict.items():    \n",
    "    bk_list += 'src.'+key+','    \n",
    "    bk_list2 += key+','    \n",
    "    bk_concat_str+=f\",trim(src.{key}::varchar(256))\"\n",
    "\n",
    "bk_list2=bk_list2[:-1] \n",
    "bk_list=bk_list[:-1]"
   ]
  },
  {
   "cell_type": "code",
   "execution_count": 134,
   "id": "4ed88526",
   "metadata": {},
   "outputs": [
    {
     "data": {
      "text/plain": [
       "'src.tax_bundle_id,src.ziffer'"
      ]
     },
     "execution_count": 134,
     "metadata": {},
     "output_type": "execute_result"
    }
   ],
   "source": [
    "bk_list"
   ]
  },
  {
   "cell_type": "code",
   "execution_count": 121,
   "id": "23280f3e",
   "metadata": {},
   "outputs": [
    {
     "data": {
      "text/plain": [
       "'tax_bundle_id,ziffer'"
      ]
     },
     "execution_count": 121,
     "metadata": {},
     "output_type": "execute_result"
    }
   ],
   "source": [
    "bk_list2"
   ]
  },
  {
   "cell_type": "code",
   "execution_count": 126,
   "id": "997ea02f",
   "metadata": {},
   "outputs": [],
   "source": [
    "params = {\n",
    "    'bk_concat_str':bk_concat_str,\n",
    "    'bk_list':bk_list,\n",
    "    'bk_list2':bk_list2,\n",
    "    'schema_src':conf['connection']['schemas']['stage'],\n",
    "    'table_src':conf['links'][link]['src']['table'],\n",
    "    'schema_tgt':conf['connection']['schemas']['edwh'],\n",
    "    'table_tgt':link,\n",
    "    'hk_tgt': conf['links'][link]['hk']\n",
    "}"
   ]
  },
  {
   "cell_type": "code",
   "execution_count": 132,
   "id": "ee094909",
   "metadata": {},
   "outputs": [
    {
     "name": "stdout",
     "output_type": "stream",
     "text": [
      "with cte (hk,load_dts,rec_src,bk) as (\n",
      "\tselect md5(CONCAT_WS('|',trim(src.tax_bundle_id::varchar(256)),trim(src.ziffer::varchar(256))) \n",
      "\t,  current_timestamp \n",
      "\t, src.tax_bundle_id,src.ziffer,\n",
      "\tfrom stage.v_report_ziffer src\n",
      ")\n",
      "insert into vault.l_taxbundle_ziffer (hk_l_taxbundle_ziffer,load_dts,tax_bundle_id,ziffer)\n",
      "select distinct hk\n",
      "  , load_dts\n",
      "  , tax_bundle_id,ziffer\n",
      "from cte\n",
      "where not exists \n",
      "(\n",
      "\tselect 1 from vault.l_taxbundle_ziffer tgt\n",
      "\twhere cte.hk = tgt.hk_l_taxbundle_ziffer\n",
      ");\n"
     ]
    }
   ],
   "source": [
    "print(sql.format(**params))"
   ]
  }
 ],
 "metadata": {
  "kernelspec": {
   "display_name": "Python 3",
   "language": "python",
   "name": "python3"
  },
  "language_info": {
   "codemirror_mode": {
    "name": "ipython",
    "version": 3
   },
   "file_extension": ".py",
   "mimetype": "text/x-python",
   "name": "python",
   "nbconvert_exporter": "python",
   "pygments_lexer": "ipython3",
   "version": "3.8.10"
  },
  "toc": {
   "base_numbering": 1,
   "nav_menu": {},
   "number_sections": true,
   "sideBar": true,
   "skip_h1_title": false,
   "title_cell": "Table of Contents",
   "title_sidebar": "Contents",
   "toc_cell": false,
   "toc_position": {
    "height": "calc(100% - 180px)",
    "left": "10px",
    "top": "150px",
    "width": "384px"
   },
   "toc_section_display": true,
   "toc_window_display": true
  }
 },
 "nbformat": 4,
 "nbformat_minor": 5
}

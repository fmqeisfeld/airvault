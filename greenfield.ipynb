{
 "cells": [
  {
   "cell_type": "code",
   "execution_count": 1,
   "id": "817cdaed",
   "metadata": {},
   "outputs": [],
   "source": [
    "import yaml\n",
    "from collections import defaultdict\n",
    "import pprint\n",
    "pp = pprint.PrettyPrinter(indent=4)\n",
    "# %pprint # turn on /off"
   ]
  },
  {
   "cell_type": "code",
   "execution_count": 4,
   "id": "59d69cec",
   "metadata": {},
   "outputs": [],
   "source": [
    "with open('dags/configs/conf.yaml', \"r\") as config_file:\n",
    "    conf_all = yaml.safe_load(config_file)"
   ]
  },
  {
   "cell_type": "code",
   "execution_count": 5,
   "id": "966a73db",
   "metadata": {},
   "outputs": [
    {
     "data": {
      "text/plain": [
       "{'connection': {'host': '172.22.0.1',\n",
       "  'db': 'dv2',\n",
       "  'port': 5432,\n",
       "  'user': 'postgres',\n",
       "  'pw': 'postgres',\n",
       "  'schemas': {'stage': 'stage', 'edwh': 'vault'}},\n",
       " 'rv': {'hubs': {'hub_tax_bundle': {'hk': 'hk_tax_bundle',\n",
       "    'bk': 'tax_bundle_id',\n",
       "    'overwrite': False,\n",
       "    'src': {'v_report_taxation_bundle': {'bk': 'tax_bundle_id',\n",
       "      'bkeycode': 'default',\n",
       "      'tenant': 'default'},\n",
       "     'v_report_ziffer': {'bk': 'tax_bundle_id'}}},\n",
       "   'hub_ziffer': {'hk': 'hk_ziffer',\n",
       "    'bk': 'ziffer',\n",
       "    'overwrite': False,\n",
       "    'src': {'v_report_dict_ziffer': {'bk': 'ziffer'}}}},\n",
       "  'links': {'lnk_taxbundle_ziffer': {'hk': 'hk_l_taxbundle_ziffer',\n",
       "    'overwrite': False,\n",
       "    'src': {'v_report_ziffer': {'bkeycode': 'default',\n",
       "      'tenant': 'default',\n",
       "      'bks': {'tax_bundle_id': 'hk_tax_bundle', 'ziffer': 'hk_ziffer'},\n",
       "      'cks': ['snapshot_version']},\n",
       "     'v_report_taxation_bundle': {'bkeycode': 'default',\n",
       "      'tenant': 'default',\n",
       "      'bks': {'tax_bundle_id': 'hk_tax_bundle', 'ziffer': 'hk_ziffer'}}}}}}}"
      ]
     },
     "execution_count": 5,
     "metadata": {},
     "output_type": "execute_result"
    }
   ],
   "source": [
    "conf_all"
   ]
  },
  {
   "cell_type": "code",
   "execution_count": 457,
   "id": "e50fefd0",
   "metadata": {},
   "outputs": [],
   "source": [
    "def defaultify(d):\n",
    "    if isinstance(d, dict):\n",
    "        return defaultdict(lambda: None, {k: defaultify(v) for k, v in d.items()})\n",
    "    elif isinstance(d, list):\n",
    "        return [defaultify(e) for e in d]\n",
    "    else:\n",
    "        return d"
   ]
  },
  {
   "cell_type": "code",
   "execution_count": 58,
   "id": "54cd3992",
   "metadata": {},
   "outputs": [],
   "source": [
    "dconf=defaultify(conf_all)"
   ]
  },
  {
   "cell_type": "markdown",
   "id": "97d8aa24",
   "metadata": {},
   "source": [
    "# hubs"
   ]
  },
  {
   "cell_type": "markdown",
   "id": "9d4c3334",
   "metadata": {},
   "source": [
    "\n",
    "## loader"
   ]
  },
  {
   "cell_type": "code",
   "execution_count": 79,
   "id": "b6d60ad9",
   "metadata": {},
   "outputs": [],
   "source": [
    "sql= open('./dags/sql/hub_loader.sql','r').read()"
   ]
  },
  {
   "cell_type": "code",
   "execution_count": 66,
   "id": "b875fbf3",
   "metadata": {},
   "outputs": [
    {
     "data": {
      "text/plain": [
       "\"with cte (hk,bk,dv_loadts,dv_appts,dv_recsrc,dv_tenant,dv_bkeycode,dv_taskid) as (\\n\\tselect md5(concat_ws('|',\\n\\t\\t\\t   {tenant},{bkeycode},\\n\\t\\t\\t   trim(src.{bk_src}::varchar(256),\\n\\t)) \\n\\t, trim(src.{bk_src}::varchar(256))\\n\\t, current_timestamp \\n\\t, coalesce({appts::timestamp},current_timestamp))\\n\\t, {rec_src}\\n\\t, {tenant}\\n\\t, {bkeycode}\\n\\t, {taskid}\\t\\n\\tfrom {schema_src}.{table_src} src\\n)\\ninsert into {schema_tgt}.{table_tgt} (\\n\\t\\t{hk_tgt}\\n\\t  , {bk_tgt}\\n\\t  , dv_loadts\\n\\t  , dv_appts\\n\\t  , dv_recsrc\\n\\t  , dv_tenant\\n\\t  , dv_bkeycode\\n\\t  , dv_taskid\\n\\t)\\nselect distinct \\n\\thk\\n  , bk\\n  , dv_loadts\\n  , dv_appts\\n  , dv_recsrc\\n  , dv_tenant\\n  , dv_bkeycode\\n  , dv_taskid\\nfrom cte\\nwhere not exists \\n(\\n\\tselect 1 from {schema_tgt}.{table_tgt} tgt\\n\\twhere cte.hk = tgt.{hk_tgt}\\n);\""
      ]
     },
     "execution_count": 66,
     "metadata": {},
     "output_type": "execute_result"
    }
   ],
   "source": [
    "sql"
   ]
  },
  {
   "cell_type": "code",
   "execution_count": 80,
   "id": "47a61665",
   "metadata": {},
   "outputs": [
    {
     "name": "stdout",
     "output_type": "stream",
     "text": [
      "\n",
      "with cte (hk,bk,dv_loadts,dv_appts,dv_recsrc,dv_tenant,dv_bkeycode,dv_taskid) as (\n",
      "\tselect md5(concat_ws('|',\n",
      "\t\t\t   default,default,\n",
      "\t\t\t   trim(src.tax_bundle_id::varchar(256),\n",
      "\t)) \n",
      "\t, trim(src.tax_bundle_id::varchar(256))\n",
      "\t, current_timestamp \n",
      "\t, coalesce(current_timestamp::timestamp,current_timestamp)\n",
      "\t, v_report_taxation_bundle\n",
      "\t, \"default\"\n",
      "\t, \"default\"\n",
      "\t, 1234\t\n",
      "\tfrom stage.v_report_taxation_bundle src\n",
      ")\n",
      "insert into vault.hub_tax_bundle (\n",
      "\t\thk_tax_bundle\n",
      "\t  , tax_bundle_id\n",
      "\t  , dv_loadts\n",
      "\t  , dv_appts\n",
      "\t  , dv_recsrc\n",
      "\t  , dv_tenant\n",
      "\t  , dv_bkeycode\n",
      "\t  , dv_taskid\n",
      "\t)\n",
      "select distinct \n",
      "\thk\n",
      "  , bk\n",
      "  , dv_loadts\n",
      "  , dv_appts\n",
      "  , dv_recsrc\n",
      "  , dv_tenant\n",
      "  , dv_bkeycode\n",
      "  , dv_taskid\n",
      "from cte\n",
      "where not exists \n",
      "(\n",
      "\tselect 1 from vault.hub_tax_bundle tgt\n",
      "\twhere cte.hk = tgt.hk_tax_bundle\n",
      ");\n",
      "with cte (hk,bk,dv_loadts,dv_appts,dv_recsrc,dv_tenant,dv_bkeycode,dv_taskid) as (\n",
      "\tselect md5(concat_ws('|',\n",
      "\t\t\t   default,default,\n",
      "\t\t\t   trim(src.tax_bundle_id::varchar(256),\n",
      "\t)) \n",
      "\t, trim(src.tax_bundle_id::varchar(256))\n",
      "\t, current_timestamp \n",
      "\t, coalesce(current_timestamp::timestamp,current_timestamp)\n",
      "\t, v_report_ziffer\n",
      "\t, \"default\"\n",
      "\t, \"default\"\n",
      "\t, 1234\t\n",
      "\tfrom stage.v_report_ziffer src\n",
      ")\n",
      "insert into vault.hub_tax_bundle (\n",
      "\t\thk_tax_bundle\n",
      "\t  , tax_bundle_id\n",
      "\t  , dv_loadts\n",
      "\t  , dv_appts\n",
      "\t  , dv_recsrc\n",
      "\t  , dv_tenant\n",
      "\t  , dv_bkeycode\n",
      "\t  , dv_taskid\n",
      "\t)\n",
      "select distinct \n",
      "\thk\n",
      "  , bk\n",
      "  , dv_loadts\n",
      "  , dv_appts\n",
      "  , dv_recsrc\n",
      "  , dv_tenant\n",
      "  , dv_bkeycode\n",
      "  , dv_taskid\n",
      "from cte\n",
      "where not exists \n",
      "(\n",
      "\tselect 1 from vault.hub_tax_bundle tgt\n",
      "\twhere cte.hk = tgt.hk_tax_bundle\n",
      ");\n"
     ]
    }
   ],
   "source": [
    "conf=dconf['rv']\n",
    "\n",
    "appts=None\n",
    "sql_concat=''\n",
    "hub='hub_tax_bundle'\n",
    "schema_stage='stage'\n",
    "schema_edwh='vault'\n",
    "\n",
    "for cur_src,cur_conf in conf['hubs'][hub]['src'].items():\n",
    "\n",
    "    params={'tenant':cur_conf['tenant'] if cur_conf['tenant'] else \"default\",\n",
    "            'bkeycode':cur_conf['bkeycode'] if cur_conf['bkeycode'] else \"default\",\n",
    "            'taskid': '1234',\n",
    "            'appts':'appts::timestamp' if appts else 'current_timestamp',\n",
    "            'rec_src':cur_src,\n",
    "            'bk_src':cur_conf['bk'],\n",
    "            'schema_src':schema_stage,\n",
    "            'table_src':cur_src,\n",
    "            'bk_tgt':conf['hubs'][hub]['bk'],\n",
    "            'hk_tgt':conf['hubs'][hub]['hk'],\n",
    "            'schema_tgt':schema_edwh,\n",
    "            'table_tgt':hub\n",
    "    }\n",
    "\n",
    "    #print(sql.format(**params))\n",
    "    sql_concat += '\\n'+sql.format(**params)\n",
    "    \n",
    "print(sql_concat)    "
   ]
  },
  {
   "cell_type": "markdown",
   "id": "c5184bf9",
   "metadata": {},
   "source": [
    "# links"
   ]
  },
  {
   "cell_type": "code",
   "execution_count": 476,
   "id": "e57939cc",
   "metadata": {},
   "outputs": [],
   "source": [
    "with open('dags/configs/conf.yaml', \"r\") as config_file:\n",
    "    conf = yaml.safe_load(config_file)"
   ]
  },
  {
   "cell_type": "code",
   "execution_count": 477,
   "id": "fdf536c7",
   "metadata": {},
   "outputs": [],
   "source": [
    "dconf=defaultify(conf)"
   ]
  },
  {
   "cell_type": "markdown",
   "id": "e0a68d18",
   "metadata": {},
   "source": [
    "## link creator"
   ]
  },
  {
   "cell_type": "code",
   "execution_count": 478,
   "id": "a9e223a8",
   "metadata": {},
   "outputs": [],
   "source": [
    "conf=conf['rv']"
   ]
  },
  {
   "cell_type": "code",
   "execution_count": 481,
   "id": "786783b0",
   "metadata": {},
   "outputs": [],
   "source": [
    "link='lnk_taxbundle_ziffer'"
   ]
  },
  {
   "cell_type": "code",
   "execution_count": 482,
   "id": "3d4d762f",
   "metadata": {},
   "outputs": [],
   "source": [
    "# collect bks -> hks mappping from all sources\n",
    "bk_list=list()\n",
    "hk_list=list()\n",
    "\n",
    "for cur_src, cur_conf in conf['links'][link]['src'].items():\n",
    "    \n",
    "    #link_bks_dict={**link_bks_dict,**cur_conf['bks']} # merge dicts\n",
    "    #print(link_bks_dict)\n",
    "    bk_list +=[x for x in cur_conf['bks'].keys()]\n",
    "    hk_list +=[x for x in cur_conf['bks'].values()] # if x != None]\n",
    "    \n",
    "    "
   ]
  },
  {
   "cell_type": "code",
   "execution_count": 483,
   "id": "bc46be6a",
   "metadata": {},
   "outputs": [],
   "source": [
    "# das brauche ich\n",
    "# ich möchte, dass der user in conf später irgendwann auch die reihenfolge seiner quellen und die bks pro quelle ändern darf.\n",
    "# deswegen brauche ich diese sortierten dicts\n",
    "\n",
    "bk_hk_dict = dict(zip(bk_list,hk_list))\n",
    "bk_hk_dict_sorted=dict(sorted(bk_hk_dict.items()))\n",
    "hk_bk_dict_sorted=dict(zip([x for x in bk_hk_dict_sorted.values()],[x for x in bk_hk_dict_sorted.keys()]))"
   ]
  },
  {
   "cell_type": "markdown",
   "id": "5e790ad1",
   "metadata": {},
   "source": [
    "### hk_list_create"
   ]
  },
  {
   "cell_type": "code",
   "execution_count": 490,
   "id": "a3eada32",
   "metadata": {},
   "outputs": [
    {
     "name": "stdout",
     "output_type": "stream",
     "text": [
      "hk_tax_bundle varchar(256) NOT NULL,hk_ziffer varchar(256) NOT NULL\n"
     ]
    }
   ],
   "source": [
    "hk_unique = [ f'{x} varchar(256) NOT NULL' for x in hk_bk_dict_sorted.keys() if x != None]\n",
    "hk_list_create_str = ','.join(hk_unique)\n",
    "print(hk_list_create_str)"
   ]
  },
  {
   "cell_type": "markdown",
   "id": "40b805a9",
   "metadata": {},
   "source": [
    "### bk_list_create"
   ]
  },
  {
   "cell_type": "code",
   "execution_count": 491,
   "id": "48e56148",
   "metadata": {},
   "outputs": [
    {
     "name": "stdout",
     "output_type": "stream",
     "text": [
      "dossier_uuid varchar(256) NOT NULL,tax_bundle_id varchar(256) NOT NULL,ziffer varchar(256) NOT NULL\n"
     ]
    }
   ],
   "source": [
    "bk_list_create = [ f'{x} varchar(256) NOT NULL' for x in hk_bk_dict_sorted.values()]\n",
    "bk_list_create_str = ','.join(bk_list_create)\n",
    "print(bk_list_create_str)"
   ]
  },
  {
   "cell_type": "markdown",
   "id": "fbcbdd79",
   "metadata": {},
   "source": [
    "### format"
   ]
  },
  {
   "cell_type": "code",
   "execution_count": 495,
   "id": "30ddf761",
   "metadata": {},
   "outputs": [],
   "source": [
    "sql= open('./dags/sql/link_creator.sql','r').read()"
   ]
  },
  {
   "cell_type": "code",
   "execution_count": 496,
   "id": "894b339a",
   "metadata": {},
   "outputs": [],
   "source": [
    "# schema_edwh = Variable.get('SCHEMA_EDWH')\n",
    "schema_edwh = 'vault'"
   ]
  },
  {
   "cell_type": "code",
   "execution_count": 497,
   "id": "13da7672",
   "metadata": {},
   "outputs": [],
   "source": [
    "params = {\n",
    "    'schema':schema_edwh,\n",
    "    'link':link,\n",
    "    'hk':conf['links'][link]['hk'],\n",
    "    'bk_list_create':bk_list_create_str,\n",
    "    'hk_list_create':hk_list_create_str\n",
    "}"
   ]
  },
  {
   "cell_type": "code",
   "execution_count": 498,
   "id": "58f462e4",
   "metadata": {},
   "outputs": [
    {
     "name": "stdout",
     "output_type": "stream",
     "text": [
      "CREATE TABLE vault.lnk_taxbundle_ziffer (\n",
      "\thk_l_taxbundle_ziffer varchar(256) NOT NULL,\n",
      "\thk_tax_bundle varchar(256) NOT NULL,hk_ziffer varchar(256) NOT NULL,\n",
      "\tdossier_uuid varchar(256) NOT NULL,tax_bundle_id varchar(256) NOT NULL,ziffer varchar(256) NOT NULL,\n",
      "\t-- technical fields\n",
      "\tDV_LOADTS timestamp NULL,\n",
      "\tDV_APPTS timestamp NULL,\n",
      "\tDV_RECSRC varchar(256) NULL,\n",
      "\tDV_TENANT varchar(256) NULL,\n",
      "\tDV_BKEYCODE varchar(256) NULL,\n",
      "\tDV_TASKID varchar(256) NULL,\n",
      "    CONSTRAINT lnk_taxbundle_ziffer_pkey PRIMARY KEY (hk_l_taxbundle_ziffer)\n",
      ");\n"
     ]
    }
   ],
   "source": [
    "print(sql.format(**params))"
   ]
  },
  {
   "cell_type": "markdown",
   "id": "64764cf7",
   "metadata": {},
   "source": [
    "## link loader"
   ]
  },
  {
   "cell_type": "code",
   "execution_count": 502,
   "id": "4d2c483b",
   "metadata": {},
   "outputs": [],
   "source": [
    "sql= open('./dags/sql/link_loader.sql','r').read()"
   ]
  },
  {
   "cell_type": "code",
   "execution_count": 503,
   "id": "49f7304c",
   "metadata": {},
   "outputs": [],
   "source": [
    "link='lnk_taxbundle_ziffer'"
   ]
  },
  {
   "cell_type": "code",
   "execution_count": 504,
   "id": "33e126b7",
   "metadata": {},
   "outputs": [],
   "source": [
    "with open('dags/configs/conf.yaml', \"r\") as config_file:\n",
    "    conf = yaml.safe_load(config_file)\n",
    "    \n",
    "dconf=defaultify(conf_all)\n",
    "conf=dconf['rv']"
   ]
  },
  {
   "cell_type": "code",
   "execution_count": 505,
   "id": "5a6e3e9d",
   "metadata": {},
   "outputs": [],
   "source": [
    "# collect bks -> hks mappping from all sources\n",
    "bk_list=list() # total\n",
    "hk_list=list() # total\n",
    "\n",
    "bk_hk_obj={} # per source\n",
    "for cur_src, cur_conf in conf['links'][link]['src'].items():\n",
    "    \n",
    "    #link_bks_dict={**link_bks_dict,**cur_conf['bks']} # merge dicts\n",
    "    #print(link_bks_dict)\n",
    "    bk_list +=[x for x in cur_conf['bks'].keys()]\n",
    "    hk_list +=[x for x in cur_conf['bks'].values()]\n",
    "    bk_hk_obj[cur_src]=cur_conf['bks']"
   ]
  },
  {
   "cell_type": "code",
   "execution_count": 506,
   "id": "13df1435",
   "metadata": {},
   "outputs": [],
   "source": [
    "# das brauche ich\n",
    "# ich möchte, dass der user in conf später irgendwann auch die reihenfolge seiner quellen und die bks pro quelle ändern darf.\n",
    "# deswegen brauche ich diese sortierten dicts\n",
    "\n",
    "bk_hk_dict = dict(zip(bk_list,hk_list))\n",
    "bk_hk_dict_sorted=dict(sorted(bk_hk_dict.items()))\n",
    "hk_bk_dict_sorted=dict(zip([x for x in bk_hk_dict_sorted.values()],[x for x in bk_hk_dict_sorted.keys()]))\n"
   ]
  },
  {
   "cell_type": "code",
   "execution_count": 507,
   "id": "3539d3ed",
   "metadata": {},
   "outputs": [
    {
     "data": {
      "text/plain": [
       "{'tax_bundle_id': 'hk_tax_bundle', 'ziffer': 'hk_ziffer'}"
      ]
     },
     "execution_count": 507,
     "metadata": {},
     "output_type": "execute_result"
    }
   ],
   "source": [
    "bk_hk_dict_sorted"
   ]
  },
  {
   "cell_type": "code",
   "execution_count": 508,
   "id": "d28dbf23",
   "metadata": {},
   "outputs": [
    {
     "data": {
      "text/plain": [
       "{'hk_tax_bundle': 'tax_bundle_id', 'hk_ziffer': 'ziffer'}"
      ]
     },
     "execution_count": 508,
     "metadata": {},
     "output_type": "execute_result"
    }
   ],
   "source": [
    "hk_bk_dict_sorted"
   ]
  },
  {
   "cell_type": "code",
   "execution_count": 509,
   "id": "c12c1543",
   "metadata": {},
   "outputs": [
    {
     "data": {
      "text/plain": [
       "['hk_tax_bundle', 'hk_ziffer']"
      ]
     },
     "execution_count": 509,
     "metadata": {},
     "output_type": "execute_result"
    }
   ],
   "source": [
    "# das brauche ich (CTE & INSERT)\n",
    "hk_unique = [ x for x in hk_bk_dict_sorted.keys() if x != None]\n",
    "hk_unique"
   ]
  },
  {
   "cell_type": "markdown",
   "id": "c5c2de98",
   "metadata": {},
   "source": [
    "### hk_list_keys"
   ]
  },
  {
   "cell_type": "code",
   "execution_count": 510,
   "id": "58e6fa92",
   "metadata": {},
   "outputs": [
    {
     "data": {
      "text/plain": [
       "'hk_tax_bundle,hk_ziffer'"
      ]
     },
     "execution_count": 510,
     "metadata": {},
     "output_type": "execute_result"
    }
   ],
   "source": [
    "# das brauche ich (CTE)\n",
    "hk_list_keys_str = ','.join(hk_unique)\n",
    "hk_list_keys_str"
   ]
  },
  {
   "cell_type": "markdown",
   "id": "648d87f4",
   "metadata": {},
   "source": [
    "### bk_list_keys"
   ]
  },
  {
   "cell_type": "code",
   "execution_count": 511,
   "id": "e7d3ea38",
   "metadata": {},
   "outputs": [],
   "source": [
    "# in den quellen können die bks anders heißen auch wenn sie auf denselben hk mappen\n",
    "# nehme einfach den ersten treffer"
   ]
  },
  {
   "cell_type": "code",
   "execution_count": 512,
   "id": "a37d9650",
   "metadata": {},
   "outputs": [
    {
     "name": "stdout",
     "output_type": "stream",
     "text": [
      "tax_bundle_id,ziffer\n"
     ]
    }
   ],
   "source": [
    "bk_list_keys = list(hk_bk_dict_sorted.values())\n",
    "bk_list_keys_str = ','.join(bk_list_keys)\n",
    "print(bk_list_keys_str)"
   ]
  },
  {
   "cell_type": "markdown",
   "id": "6554ae63",
   "metadata": {},
   "source": [
    "### hk_list_vals, bk_list_vals, concat_str"
   ]
  },
  {
   "cell_type": "code",
   "execution_count": 521,
   "id": "0da9f0ca",
   "metadata": {},
   "outputs": [
    {
     "name": "stdout",
     "output_type": "stream",
     "text": [
      "md5(CONCAT_WS('|','default','default', trim(tax_bundle_id::varchar(256)))),\n",
      "md5(CONCAT_WS('|','default','default', trim(ziffer::varchar(256))))\n",
      "\n",
      "\n",
      "tax_bundle_id::varchar(256),\n",
      "ziffer::varchar(256)\n",
      "\n",
      "\n",
      "concat_ws('|','default','default',tax_bundle_id::varchar(256),ziffer::varchar(256))\n"
     ]
    }
   ],
   "source": [
    "#tenant= 'default'\n",
    "#bkeycode = 'default'\n",
    "\n",
    "# for cur_src, cur_conf in ...\n",
    "cur_src = 'v_report_ziffer'\n",
    "#cur_src = 'v_report_taxation_bundle'\n",
    "\n",
    "cur_obj=bk_hk_obj[cur_src]\n",
    "cur_obj_inv=dict(zip(cur_obj.values(),cur_obj.keys()))\n",
    "\n",
    "# hk_list für INSERT\n",
    "hk_list_vals = list(map(lambda x: \n",
    "         f\"md5(CONCAT_WS('|',\\'{tenant}\\',\\'{bkeycode}\\', trim({x}::varchar(256))))\",\n",
    "         [cur_obj_inv[x] for x in hk_unique]))\n",
    "\n",
    "hk_list_vals_str=',\\n'.join(hk_list_vals)\n",
    "print(hk_list_vals_str)\n",
    "\n",
    "print(\"\\n\")\n",
    "\n",
    "\n",
    "# bk_list für INSERT\n",
    "bk_list_vals = [cur_obj_inv[y] if y in cur_obj_inv.keys() else '-1' for y in hk_bk_dict_sorted.keys()]\n",
    "bk_list_vals_str=\"::varchar(256),\\n\".join(bk_list_vals) + \"::varchar(256)\"\n",
    "print(bk_list_vals_str)\n",
    "\n",
    "print(\"\\n\")\n",
    "\n",
    "concat_list = [cur_obj_inv[y] for y in hk_bk_dict_sorted.keys() if y in cur_obj_inv.keys() and y]\n",
    "concat_list_str =f\"concat_ws('|',\\'{tenant}\\',\\'{bkeycode}\\',\" +','.join(list(map(lambda x:f'{x}::varchar(256)',concat_list)))+')'\n",
    "print(concat_list_str)"
   ]
  },
  {
   "cell_type": "markdown",
   "id": "f37f2e28",
   "metadata": {},
   "source": [
    "### Todo: \n",
    "- Was ist, wenn es mehrere bks gibt die auf \"NULL\" zeigen ???"
   ]
  },
  {
   "cell_type": "code",
   "execution_count": 133,
   "id": "a33352fa",
   "metadata": {},
   "outputs": [],
   "source": [
    "bk_list_vals_str = ','"
   ]
  },
  {
   "cell_type": "code",
   "execution_count": 121,
   "id": "23280f3e",
   "metadata": {},
   "outputs": [
    {
     "data": {
      "text/plain": [
       "'tax_bundle_id,ziffer'"
      ]
     },
     "execution_count": 121,
     "metadata": {},
     "output_type": "execute_result"
    }
   ],
   "source": [
    "bk_list2"
   ]
  },
  {
   "cell_type": "markdown",
   "id": "4eda530a",
   "metadata": {},
   "source": [
    "### putting together"
   ]
  },
  {
   "cell_type": "code",
   "execution_count": 462,
   "id": "d8462ff5",
   "metadata": {},
   "outputs": [],
   "source": [
    "sql= open('./dags/sql/link_loader.sql','r').read()"
   ]
  },
  {
   "cell_type": "code",
   "execution_count": 522,
   "id": "ee094909",
   "metadata": {},
   "outputs": [
    {
     "name": "stdout",
     "output_type": "stream",
     "text": [
      "\n",
      "with cte (hk,\n",
      "\t\t hk_tax_bundle,hk_ziffer,\n",
      "\t\t tax_bundle_id,ziffer,\n",
      "\t\t DV_LOADTS, \n",
      "\t\t DV_APPTS, \n",
      "\t\t DV_RECSRC, \n",
      "\t\t DV_TENANT, \n",
      "\t\t DV_BKEYCODE, \n",
      "\t\t DV_TASKID\n",
      "\t) as (\n",
      "\tselect md5('default','default',concat(tax_bundle_id::varchar(256)),concat(ziffer::varchar(256))) \n",
      "\t, md5(CONCAT_WS('|','default','default', trim(tax_bundle_id::varchar(256)))),\n",
      "md5(CONCAT_WS('|','default','default', trim(ziffer::varchar(256))))\n",
      "\t, tax_bundle_id::varchar(256),\n",
      "ziffer::varchar(256)\n",
      "\t,  current_timestamp \n",
      "\t, current_timestamp\n",
      "\t, 'v_report_ziffer'\n",
      "\t, 'default'\n",
      "\t, 'default'\n",
      "\t, '1234\t'\n",
      "\tfrom stage.v_report_ziffer src\n",
      ")\n",
      "insert into vault.lnk_taxbundle_ziffer (\n",
      "\thk_l_taxbundle_ziffer,\n",
      "    hk_tax_bundle,hk_ziffer,\n",
      "    tax_bundle_id,ziffer,\n",
      "\tDV_LOADTS, \n",
      "\tDV_APPTS, \n",
      "\tDV_RECSRC, \n",
      "\tDV_TENANT, \n",
      "\tDV_BKEYCODE, \n",
      "\tDV_TASKID\t\n",
      ")\n",
      "select distinct hk,\n",
      "    hk_tax_bundle,hk_ziffer,\n",
      "    tax_bundle_id,ziffer,\n",
      "\tDV_LOADTS, \n",
      "\tDV_APPTS, \n",
      "\tDV_RECSRC, \n",
      "\tDV_TENANT, \n",
      "\tDV_BKEYCODE, \n",
      "\tDV_TASKID\t\n",
      "from cte\n",
      "where not exists \n",
      "(\n",
      "\tselect 1 from vault.lnk_taxbundle_ziffer tgt\n",
      "\twhere cte.hk = tgt.hk_l_taxbundle_ziffer\n",
      ");\n",
      "with cte (hk,\n",
      "\t\t hk_tax_bundle,hk_ziffer,\n",
      "\t\t tax_bundle_id,ziffer,\n",
      "\t\t DV_LOADTS, \n",
      "\t\t DV_APPTS, \n",
      "\t\t DV_RECSRC, \n",
      "\t\t DV_TENANT, \n",
      "\t\t DV_BKEYCODE, \n",
      "\t\t DV_TASKID\n",
      "\t) as (\n",
      "\tselect md5('default','default',concat(tax_bundle_id::varchar(256)),concat(ziffer::varchar(256))) \n",
      "\t, md5(CONCAT_WS('|','default','default', trim(tax_bundle_id::varchar(256)))),\n",
      "md5(CONCAT_WS('|','default','default', trim(ziffer::varchar(256))))\n",
      "\t, tax_bundle_id::varchar(256),\n",
      "ziffer::varchar(256)\n",
      "\t,  current_timestamp \n",
      "\t, current_timestamp\n",
      "\t, 'v_report_taxation_bundle'\n",
      "\t, 'default'\n",
      "\t, 'default'\n",
      "\t, '1234\t'\n",
      "\tfrom stage.v_report_taxation_bundle src\n",
      ")\n",
      "insert into vault.lnk_taxbundle_ziffer (\n",
      "\thk_l_taxbundle_ziffer,\n",
      "    hk_tax_bundle,hk_ziffer,\n",
      "    tax_bundle_id,ziffer,\n",
      "\tDV_LOADTS, \n",
      "\tDV_APPTS, \n",
      "\tDV_RECSRC, \n",
      "\tDV_TENANT, \n",
      "\tDV_BKEYCODE, \n",
      "\tDV_TASKID\t\n",
      ")\n",
      "select distinct hk,\n",
      "    hk_tax_bundle,hk_ziffer,\n",
      "    tax_bundle_id,ziffer,\n",
      "\tDV_LOADTS, \n",
      "\tDV_APPTS, \n",
      "\tDV_RECSRC, \n",
      "\tDV_TENANT, \n",
      "\tDV_BKEYCODE, \n",
      "\tDV_TASKID\t\n",
      "from cte\n",
      "where not exists \n",
      "(\n",
      "\tselect 1 from vault.lnk_taxbundle_ziffer tgt\n",
      "\twhere cte.hk = tgt.hk_l_taxbundle_ziffer\n",
      ");\n"
     ]
    }
   ],
   "source": [
    "appts=None\n",
    "sql_concat=''\n",
    "link='lnk_taxbundle_ziffer'\n",
    "schema_stage='stage'\n",
    "schema_edwh='vault'\n",
    "\n",
    "for cur_src,cur_conf in conf['links'][link]['src'].items():\n",
    "\n",
    "    cur_obj=bk_hk_obj[cur_src]\n",
    "    cur_obj_inv=dict(zip(cur_obj.values(),cur_obj.keys()))\n",
    "\n",
    "    # hk_list für INSERT\n",
    "    hk_list_vals = list(map(lambda x: \n",
    "             f\"md5(CONCAT_WS('|',\\'{tenant}\\',\\'{bkeycode}\\', trim({x}::varchar(256))))\",\n",
    "             [cur_obj_inv[x] for x in hk_unique]))\n",
    "\n",
    "    hk_list_vals_str=',\\n'.join(hk_list_vals)\n",
    "\n",
    "    # bk_list für INSERT\n",
    "    bk_list_vals = [cur_obj_inv[y] if y in cur_obj_inv.keys() else '-1' for y in hk_bk_dict_sorted.keys()]\n",
    "    bk_list_vals_str=\"::varchar(256),\\n\".join(bk_list_vals) + \"::varchar(256)\"\n",
    "\n",
    "    concat_list = [cur_obj_inv[y] for y in hk_bk_dict_sorted.keys() if y in cur_obj_inv.keys() and y]\n",
    "    concat_list_str =f\"\\'{tenant}\\',\\'{bkeycode}\\',\" +','.join(list(map(lambda x:f'concat({x}::varchar(256))',concat_list)))\n",
    "\n",
    "    \n",
    "    params={'tenant':cur_conf['tenant'] if cur_conf['tenant'] else \"default\",\n",
    "            'bkeycode':cur_conf['bkeycode'] if cur_conf['bkeycode'] else \"default\",\n",
    "            'taskid': '1234',\n",
    "            'appts':'appts::timestamp' if appts else 'current_timestamp',\n",
    "            'rec_src':cur_src,\n",
    "            #            \n",
    "            'schema_src':schema_stage,\n",
    "            'table_src':cur_src,\n",
    "            'schema_tgt':schema_edwh,\n",
    "            'table_tgt':link,\n",
    "            #\n",
    "            'hk_list_keys':hk_list_keys_str,\n",
    "            'bk_list_keys':bk_list_keys_str,\n",
    "            'hk_list_vals':hk_list_vals_str,\n",
    "            'bk_list_vals':bk_list_vals_str, \n",
    "            'concat_str':concat_list_str,\n",
    "            'hk_tgt':conf['links'][link]['hk']\n",
    "    }\n",
    "\n",
    "    #print(sql.format(**params))\n",
    "    sql_concat += '\\n'+sql.format(**params)\n",
    "    \n",
    "print(sql_concat)   "
   ]
  }
 ],
 "metadata": {
  "kernelspec": {
   "display_name": "Python 3",
   "language": "python",
   "name": "python3"
  },
  "language_info": {
   "codemirror_mode": {
    "name": "ipython",
    "version": 3
   },
   "file_extension": ".py",
   "mimetype": "text/x-python",
   "name": "python",
   "nbconvert_exporter": "python",
   "pygments_lexer": "ipython3",
   "version": "3.8.10"
  },
  "toc": {
   "base_numbering": 1,
   "nav_menu": {},
   "number_sections": true,
   "sideBar": true,
   "skip_h1_title": false,
   "title_cell": "Table of Contents",
   "title_sidebar": "Contents",
   "toc_cell": false,
   "toc_position": {
    "height": "calc(100% - 180px)",
    "left": "10px",
    "top": "150px",
    "width": "384px"
   },
   "toc_section_display": true,
   "toc_window_display": true
  }
 },
 "nbformat": 4,
 "nbformat_minor": 5
}

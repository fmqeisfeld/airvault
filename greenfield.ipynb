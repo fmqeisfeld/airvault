{
 "cells": [
  {
   "cell_type": "code",
   "execution_count": 1,
   "id": "817cdaed",
   "metadata": {},
   "outputs": [],
   "source": [
    "import yaml"
   ]
  },
  {
   "cell_type": "code",
   "execution_count": 23,
   "id": "59d69cec",
   "metadata": {},
   "outputs": [],
   "source": [
    "with open('dags/configs/conf.yaml', \"r\") as config_file:\n",
    "    config = yaml.safe_load(config_file)"
   ]
  },
  {
   "cell_type": "code",
   "execution_count": 24,
   "id": "b8bb6615",
   "metadata": {},
   "outputs": [
    {
     "data": {
      "text/plain": [
       "{'connection': {'host': '172.28.0.1',\n",
       "  'db': 'dv2',\n",
       "  'port': 5432,\n",
       "  'user': 'postgres',\n",
       "  'pw': 'postgres',\n",
       "  'schemas': {'stage': 'stage', 'edwh': 'vault'}},\n",
       " 'hubs': {'hub_tax_bundle': {'hk': 'hk_tax_bundle',\n",
       "   'overwrite': False,\n",
       "   'src': {'table': 'v_report_taxation_bundle',\n",
       "    'bk': 'tax_bundle_id',\n",
       "    'type': 'int'}},\n",
       "  'hub_ziffer': {'hk': 'hk_ziffer',\n",
       "   'overwrite': False,\n",
       "   'src': {'table': 'v_report_dict_ziffer', 'bk': 'ziffer', 'type': 'int'}}}}"
      ]
     },
     "execution_count": 24,
     "metadata": {},
     "output_type": "execute_result"
    }
   ],
   "source": [
    "config"
   ]
  },
  {
   "cell_type": "markdown",
   "id": "97d8aa24",
   "metadata": {},
   "source": [
    "# hubs"
   ]
  },
  {
   "cell_type": "markdown",
   "id": "9d4c3334",
   "metadata": {},
   "source": [
    "\n",
    "## creator"
   ]
  },
  {
   "cell_type": "code",
   "execution_count": 5,
   "id": "b6d60ad9",
   "metadata": {},
   "outputs": [],
   "source": [
    "sql= open('./dags/sql/hub_creator.sql','r').read()"
   ]
  },
  {
   "cell_type": "code",
   "execution_count": 20,
   "id": "b875fbf3",
   "metadata": {},
   "outputs": [
    {
     "data": {
      "text/plain": [
       "'CREATE TABLE {vault}.{hub} (\\n\\t{hk} varchar(256) NOT NULL,\\n\\tload_dts timestamp NULL,\\n\\trec_src varchar(256) NULL,\\n\\t{bk} {bk_type} NULL,\\n\\tCONSTRAINT {hub}_pkey PRIMARY KEY ({hk})\\n);'"
      ]
     },
     "execution_count": 20,
     "metadata": {},
     "output_type": "execute_result"
    }
   ],
   "source": [
    "sql"
   ]
  },
  {
   "cell_type": "code",
   "execution_count": 30,
   "id": "6b88da08",
   "metadata": {},
   "outputs": [],
   "source": [
    "conf=config"
   ]
  },
  {
   "cell_type": "code",
   "execution_count": 13,
   "id": "47a61665",
   "metadata": {},
   "outputs": [],
   "source": [
    "hub='hub_tax_bundle'\n",
    "params = {'schema':conf['connection']['schemas']['edwh'],\n",
    "          'hub':hub,\n",
    "          'hk':conf['hubs'][hub]['bk'],\n",
    "          'bk':conf['hubs'][hub]['src']['bk'],\n",
    "          'bk_type':conf['hubs'][hub]['src']['type']\n",
    "          }"
   ]
  },
  {
   "cell_type": "code",
   "execution_count": 19,
   "id": "bd7e52a0",
   "metadata": {},
   "outputs": [
    {
     "ename": "KeyError",
     "evalue": "'vault'",
     "output_type": "error",
     "traceback": [
      "\u001b[0;31m---------------------------------------------------------------------------\u001b[0m",
      "\u001b[0;31mKeyError\u001b[0m                                  Traceback (most recent call last)",
      "\u001b[0;32m<ipython-input-19-7805b75cafba>\u001b[0m in \u001b[0;36m<module>\u001b[0;34m\u001b[0m\n\u001b[0;32m----> 1\u001b[0;31m \u001b[0msql\u001b[0m\u001b[0;34m.\u001b[0m\u001b[0mformat\u001b[0m\u001b[0;34m(\u001b[0m\u001b[0;34m**\u001b[0m\u001b[0mparams\u001b[0m\u001b[0;34m)\u001b[0m\u001b[0;34m\u001b[0m\u001b[0;34m\u001b[0m\u001b[0m\n\u001b[0m",
      "\u001b[0;31mKeyError\u001b[0m: 'vault'"
     ]
    }
   ],
   "source": [
    "sql.format(**params)"
   ]
  },
  {
   "cell_type": "markdown",
   "id": "2369fa7c",
   "metadata": {},
   "source": [
    "## loader"
   ]
  },
  {
   "cell_type": "code",
   "execution_count": 42,
   "id": "b3a1f166",
   "metadata": {},
   "outputs": [],
   "source": [
    "sql= open('./dags/sql/hub_loader.sql','r').read()"
   ]
  },
  {
   "cell_type": "code",
   "execution_count": 43,
   "id": "91560e39",
   "metadata": {},
   "outputs": [],
   "source": [
    "params = {'bk_src':conf['hubs'][hub]['src']['bk'],\n",
    "          'rec_src':conf['hubs'][hub]['src']['table'],\n",
    "          'schema_src':conf['connection']['schemas']['stage'],\n",
    "          'table_src':conf['hubs'][hub]['src']['table'],\n",
    "          'schema_tgt':conf['connection']['schemas']['edwh'],\n",
    "          'table_tgt':hub,\n",
    "          'hk_tgt':conf['hubs'][hub]['hk'],\n",
    "          'bk_tgt':conf['hubs'][hub]['src']['bk']\n",
    "         }"
   ]
  },
  {
   "cell_type": "code",
   "execution_count": 44,
   "id": "8b6e48b8",
   "metadata": {},
   "outputs": [
    {
     "data": {
      "text/plain": [
       "'with cte (hk,load_dts,rec_src,bk) as (\\n\\tselect md5(trim(src.tax_bundle_id::varchar(256))) \\n\\t,  current_timestamp \\n\\t,  v_report_taxation_bundle\\n\\t, src.tax_bundle_id\\n\\tfrom stage.v_report_taxation_bundle src\\n)\\ninsert into vault.hub_tax_bundle (hk_tax_bundle,load_dts,rec_src,tax_bundle_id)\\nselect distinct \\n\\thk\\n  , load_dts\\n  , rec_src\\n  , bk\\nfrom cte\\nwhere not exists \\n(\\n\\tselect 1 from vault.hub_tax_bundle tgt\\n\\twhere cte.hk = tgt.hk_tax_bundle\\n);'"
      ]
     },
     "execution_count": 44,
     "metadata": {},
     "output_type": "execute_result"
    }
   ],
   "source": [
    "sql.format(**params)"
   ]
  },
  {
   "cell_type": "markdown",
   "id": "c5184bf9",
   "metadata": {},
   "source": [
    "# links"
   ]
  },
  {
   "cell_type": "code",
   "execution_count": 45,
   "id": "e57939cc",
   "metadata": {},
   "outputs": [],
   "source": [
    "with open('dags/configs/conf.yaml', \"r\") as config_file:\n",
    "    conf = yaml.safe_load(config_file)"
   ]
  },
  {
   "cell_type": "code",
   "execution_count": 46,
   "id": "bbca96cd",
   "metadata": {},
   "outputs": [
    {
     "data": {
      "text/plain": [
       "{'connection': {'host': '172.28.0.1',\n",
       "  'db': 'dv2',\n",
       "  'port': 5432,\n",
       "  'user': 'postgres',\n",
       "  'pw': 'postgres',\n",
       "  'schemas': {'stage': 'stage', 'edwh': 'vault'}},\n",
       " 'hubs': {'hub_tax_bundle': {'hk': 'hk_tax_bundle',\n",
       "   'overwrite': False,\n",
       "   'src': {'table': 'v_report_taxation_bundle',\n",
       "    'bk': 'tax_bundle_id',\n",
       "    'type': 'int'}},\n",
       "  'hub_ziffer': {'hk': 'hk_ziffer',\n",
       "   'overwrite': False,\n",
       "   'src': {'table': 'v_report_dict_ziffer', 'bk': 'ziffer', 'type': 'int'}}},\n",
       " 'links': {'l_taxbundle_ziffer': {'hk': 'hk_l_taxbundle_ziffer',\n",
       "   'overwrite': False,\n",
       "   'src': {'table': 'v_report_ziffer',\n",
       "    'bks': {'tax_bundle_id': {'type': 'int'}, 'ziffer': {'type': 'int'}}}}}}"
      ]
     },
     "execution_count": 46,
     "metadata": {},
     "output_type": "execute_result"
    }
   ],
   "source": [
    "conf"
   ]
  },
  {
   "cell_type": "markdown",
   "id": "e0a68d18",
   "metadata": {},
   "source": [
    "## link creator"
   ]
  },
  {
   "cell_type": "code",
   "execution_count": 72,
   "id": "6457d1f8",
   "metadata": {},
   "outputs": [],
   "source": [
    "sql= open('./dags/sql/link_creator.sql','r').read()"
   ]
  },
  {
   "cell_type": "code",
   "execution_count": 73,
   "id": "d2a9ba45",
   "metadata": {},
   "outputs": [
    {
     "data": {
      "text/plain": [
       "'CREATE TABLE {schema}.{link} (\\n\\t{hk} varchar(256) NOT NULL,\\n    load_dts timestamp NULL,     \\n    {bk_list}\\n    CONSTRAINT {link}_pkey PRIMARY KEY ({hk})\\n);'"
      ]
     },
     "execution_count": 73,
     "metadata": {},
     "output_type": "execute_result"
    }
   ],
   "source": [
    "sql"
   ]
  },
  {
   "cell_type": "code",
   "execution_count": 50,
   "id": "786783b0",
   "metadata": {},
   "outputs": [],
   "source": [
    "link='l_taxbundle_ziffer'"
   ]
  },
  {
   "cell_type": "code",
   "execution_count": 52,
   "id": "3d4d762f",
   "metadata": {},
   "outputs": [],
   "source": [
    "link_bks_dict=conf['links'][link]['src']['bks']"
   ]
  },
  {
   "cell_type": "code",
   "execution_count": 53,
   "id": "501a7360",
   "metadata": {},
   "outputs": [
    {
     "data": {
      "text/plain": [
       "{'tax_bundle_id': {'type': 'int'}, 'ziffer': {'type': 'int'}}"
      ]
     },
     "execution_count": 53,
     "metadata": {},
     "output_type": "execute_result"
    }
   ],
   "source": [
    "link_bks_dict"
   ]
  },
  {
   "cell_type": "code",
   "execution_count": 83,
   "id": "29f08f59",
   "metadata": {},
   "outputs": [
    {
     "data": {
      "text/plain": [
       "'tax_bundle_id int NOT NULL ,ziffer int NOT NULL ,'"
      ]
     },
     "execution_count": 83,
     "metadata": {},
     "output_type": "execute_result"
    }
   ],
   "source": [
    "link_bks=''\n",
    "for key,val in link_bks_dict.items():\n",
    "    #print(key,val)\n",
    "    link_bks += key + ' ' + val['type'] +' NOT NULL ,'    \n",
    "link_bks"
   ]
  },
  {
   "cell_type": "code",
   "execution_count": 84,
   "id": "13da7672",
   "metadata": {},
   "outputs": [],
   "source": [
    "params = {\n",
    "    'schema':conf['connection']['schemas']['edwh'],\n",
    "    'link':link,\n",
    "    'hk':conf['links'][link]['hk'],\n",
    "    'bk_list':link_bks\n",
    "}"
   ]
  },
  {
   "cell_type": "code",
   "execution_count": 85,
   "id": "58f462e4",
   "metadata": {},
   "outputs": [
    {
     "data": {
      "text/plain": [
       "'CREATE TABLE vault.l_taxbundle_ziffer (\\n\\thk_l_taxbundle_ziffer varchar(256) NOT NULL,\\n    load_dts timestamp NULL,     \\n    tax_bundle_id int NOT NULL ,ziffer int NOT NULL ,\\n    CONSTRAINT l_taxbundle_ziffer_pkey PRIMARY KEY (hk_l_taxbundle_ziffer)\\n);'"
      ]
     },
     "execution_count": 85,
     "metadata": {},
     "output_type": "execute_result"
    }
   ],
   "source": [
    "sql.format(**params)"
   ]
  },
  {
   "cell_type": "markdown",
   "id": "64764cf7",
   "metadata": {},
   "source": [
    "## link loader"
   ]
  },
  {
   "cell_type": "code",
   "execution_count": 131,
   "id": "4d2c483b",
   "metadata": {},
   "outputs": [],
   "source": [
    "sql= open('./dags/sql/link_loader.sql','r').read()"
   ]
  },
  {
   "cell_type": "code",
   "execution_count": 90,
   "id": "49f7304c",
   "metadata": {},
   "outputs": [],
   "source": [
    "link='l_taxbundle_ziffer'"
   ]
  },
  {
   "cell_type": "code",
   "execution_count": 91,
   "id": "563f318d",
   "metadata": {},
   "outputs": [],
   "source": [
    "link_bks_dict=conf['links'][link]['src']['bks']"
   ]
  },
  {
   "cell_type": "code",
   "execution_count": 133,
   "id": "a33352fa",
   "metadata": {},
   "outputs": [],
   "source": [
    "bk_concat_str=\"CONCAT_WS('|'\"\n",
    "bk_list=''\n",
    "bk_list2=''\n",
    "for key,val in link_bks_dict.items():    \n",
    "    bk_list += 'src.'+key+','    \n",
    "    bk_list2 += key+','    \n",
    "    bk_concat_str+=f\",trim(src.{key}::varchar(256))\"\n",
    "\n",
    "bk_list2=bk_list2[:-1] \n",
    "bk_list=bk_list[:-1]"
   ]
  },
  {
   "cell_type": "code",
   "execution_count": 134,
   "id": "4ed88526",
   "metadata": {},
   "outputs": [
    {
     "data": {
      "text/plain": [
       "'src.tax_bundle_id,src.ziffer'"
      ]
     },
     "execution_count": 134,
     "metadata": {},
     "output_type": "execute_result"
    }
   ],
   "source": [
    "bk_list"
   ]
  },
  {
   "cell_type": "code",
   "execution_count": 121,
   "id": "23280f3e",
   "metadata": {},
   "outputs": [
    {
     "data": {
      "text/plain": [
       "'tax_bundle_id,ziffer'"
      ]
     },
     "execution_count": 121,
     "metadata": {},
     "output_type": "execute_result"
    }
   ],
   "source": [
    "bk_list2"
   ]
  },
  {
   "cell_type": "code",
   "execution_count": 126,
   "id": "997ea02f",
   "metadata": {},
   "outputs": [],
   "source": [
    "params = {\n",
    "    'bk_concat_str':bk_concat_str,\n",
    "    'bk_list':bk_list,\n",
    "    'bk_list2':bk_list2,\n",
    "    'schema_src':conf['connection']['schemas']['stage'],\n",
    "    'table_src':conf['links'][link]['src']['table'],\n",
    "    'schema_tgt':conf['connection']['schemas']['edwh'],\n",
    "    'table_tgt':link,\n",
    "    'hk_tgt': conf['links'][link]['hk']\n",
    "}"
   ]
  },
  {
   "cell_type": "code",
   "execution_count": 132,
   "id": "ee094909",
   "metadata": {},
   "outputs": [
    {
     "name": "stdout",
     "output_type": "stream",
     "text": [
      "with cte (hk,load_dts,rec_src,bk) as (\n",
      "\tselect md5(CONCAT_WS('|',trim(src.tax_bundle_id::varchar(256)),trim(src.ziffer::varchar(256))) \n",
      "\t,  current_timestamp \n",
      "\t, src.tax_bundle_id,src.ziffer,\n",
      "\tfrom stage.v_report_ziffer src\n",
      ")\n",
      "insert into vault.l_taxbundle_ziffer (hk_l_taxbundle_ziffer,load_dts,tax_bundle_id,ziffer)\n",
      "select distinct hk\n",
      "  , load_dts\n",
      "  , tax_bundle_id,ziffer\n",
      "from cte\n",
      "where not exists \n",
      "(\n",
      "\tselect 1 from vault.l_taxbundle_ziffer tgt\n",
      "\twhere cte.hk = tgt.hk_l_taxbundle_ziffer\n",
      ");\n"
     ]
    }
   ],
   "source": [
    "print(sql.format(**params))"
   ]
  }
 ],
 "metadata": {
  "kernelspec": {
   "display_name": "Python 3",
   "language": "python",
   "name": "python3"
  },
  "language_info": {
   "codemirror_mode": {
    "name": "ipython",
    "version": 3
   },
   "file_extension": ".py",
   "mimetype": "text/x-python",
   "name": "python",
   "nbconvert_exporter": "python",
   "pygments_lexer": "ipython3",
   "version": "3.8.10"
  },
  "toc": {
   "base_numbering": 1,
   "nav_menu": {},
   "number_sections": true,
   "sideBar": true,
   "skip_h1_title": false,
   "title_cell": "Table of Contents",
   "title_sidebar": "Contents",
   "toc_cell": false,
   "toc_position": {
    "height": "calc(100% - 180px)",
    "left": "10px",
    "top": "150px",
    "width": "384px"
   },
   "toc_section_display": true,
   "toc_window_display": true
  }
 },
 "nbformat": 4,
 "nbformat_minor": 5
}

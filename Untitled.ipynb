{
 "cells": [
  {
   "cell_type": "code",
   "execution_count": 1,
   "id": "1d40a18f",
   "metadata": {},
   "outputs": [],
   "source": [
    "import yaml"
   ]
  },
  {
   "cell_type": "code",
   "execution_count": 23,
   "id": "30c7fc00",
   "metadata": {},
   "outputs": [],
   "source": [
    "with open('dags/configs/conf.yaml', \"r\") as config_file:\n",
    "    config = yaml.safe_load(config_file)"
   ]
  },
  {
   "cell_type": "code",
   "execution_count": 24,
   "id": "20a46d2e",
   "metadata": {},
   "outputs": [
    {
     "data": {
      "text/plain": [
       "{'connection': {'host': '172.28.0.1',\n",
       "  'db': 'dv2',\n",
       "  'port': 5432,\n",
       "  'user': 'postgres',\n",
       "  'pw': 'postgres',\n",
       "  'schemas': {'stage': 'stage', 'edwh': 'vault'}},\n",
       " 'hubs': {'hub_tax_bundle': {'hk': 'hk_tax_bundle',\n",
       "   'overwrite': False,\n",
       "   'src': {'table': 'v_report_taxation_bundle',\n",
       "    'bk': 'tax_bundle_id',\n",
       "    'type': 'int'}},\n",
       "  'hub_ziffer': {'hk': 'hk_ziffer',\n",
       "   'overwrite': False,\n",
       "   'src': {'table': 'v_report_dict_ziffer', 'bk': 'ziffer', 'type': 'int'}}}}"
      ]
     },
     "execution_count": 24,
     "metadata": {},
     "output_type": "execute_result"
    }
   ],
   "source": [
    "config"
   ]
  },
  {
   "cell_type": "markdown",
   "id": "4757410c",
   "metadata": {},
   "source": [
    "# hubs"
   ]
  },
  {
   "cell_type": "markdown",
   "id": "d3d54415",
   "metadata": {},
   "source": [
    "\n",
    "## creator"
   ]
  },
  {
   "cell_type": "code",
   "execution_count": 5,
   "id": "3c2e7fa9",
   "metadata": {},
   "outputs": [],
   "source": [
    "sql= open('./dags/sql/hub_creator.sql','r').read()"
   ]
  },
  {
   "cell_type": "code",
   "execution_count": 20,
   "id": "ad65c9b3",
   "metadata": {},
   "outputs": [
    {
     "data": {
      "text/plain": [
       "'CREATE TABLE {vault}.{hub} (\\n\\t{hk} varchar(256) NOT NULL,\\n\\tload_dts timestamp NULL,\\n\\trec_src varchar(256) NULL,\\n\\t{bk} {bk_type} NULL,\\n\\tCONSTRAINT {hub}_pkey PRIMARY KEY ({hk})\\n);'"
      ]
     },
     "execution_count": 20,
     "metadata": {},
     "output_type": "execute_result"
    }
   ],
   "source": [
    "sql"
   ]
  },
  {
   "cell_type": "code",
   "execution_count": 30,
   "id": "1762a529",
   "metadata": {},
   "outputs": [],
   "source": [
    "conf=config"
   ]
  },
  {
   "cell_type": "code",
   "execution_count": 13,
   "id": "ad4f01ed",
   "metadata": {},
   "outputs": [],
   "source": [
    "hub='hub_tax_bundle'\n",
    "params = {'schema':conf['connection']['schemas']['edwh'],\n",
    "          'hub':hub,\n",
    "          'hk':conf['hubs'][hub]['bk'],\n",
    "          'bk':conf['hubs'][hub]['src']['bk'],\n",
    "          'bk_type':conf['hubs'][hub]['src']['type']\n",
    "          }"
   ]
  },
  {
   "cell_type": "code",
   "execution_count": 19,
   "id": "faeef71c",
   "metadata": {},
   "outputs": [
    {
     "ename": "KeyError",
     "evalue": "'vault'",
     "output_type": "error",
     "traceback": [
      "\u001b[0;31m---------------------------------------------------------------------------\u001b[0m",
      "\u001b[0;31mKeyError\u001b[0m                                  Traceback (most recent call last)",
      "\u001b[0;32m<ipython-input-19-7805b75cafba>\u001b[0m in \u001b[0;36m<module>\u001b[0;34m\u001b[0m\n\u001b[0;32m----> 1\u001b[0;31m \u001b[0msql\u001b[0m\u001b[0;34m.\u001b[0m\u001b[0mformat\u001b[0m\u001b[0;34m(\u001b[0m\u001b[0;34m**\u001b[0m\u001b[0mparams\u001b[0m\u001b[0;34m)\u001b[0m\u001b[0;34m\u001b[0m\u001b[0;34m\u001b[0m\u001b[0m\n\u001b[0m",
      "\u001b[0;31mKeyError\u001b[0m: 'vault'"
     ]
    }
   ],
   "source": [
    "sql.format(**params)"
   ]
  },
  {
   "cell_type": "markdown",
   "id": "1f056eb7",
   "metadata": {},
   "source": [
    "## loader"
   ]
  },
  {
   "cell_type": "code",
   "execution_count": 42,
   "id": "4f36317e",
   "metadata": {},
   "outputs": [],
   "source": [
    "sql= open('./dags/sql/hub_loader.sql','r').read()"
   ]
  },
  {
   "cell_type": "code",
   "execution_count": 43,
   "id": "bbe7609f",
   "metadata": {},
   "outputs": [],
   "source": [
    "params = {'bk_src':conf['hubs'][hub]['src']['bk'],\n",
    "          'rec_src':conf['hubs'][hub]['src']['table'],\n",
    "          'schema_src':conf['connection']['schemas']['stage'],\n",
    "          'table_src':conf['hubs'][hub]['src']['table'],\n",
    "          'schema_tgt':conf['connection']['schemas']['edwh'],\n",
    "          'table_tgt':hub,\n",
    "          'hk_tgt':conf['hubs'][hub]['hk'],\n",
    "          'bk_tgt':conf['hubs'][hub]['src']['bk']\n",
    "         }"
   ]
  },
  {
   "cell_type": "code",
   "execution_count": 44,
   "id": "40c1f014",
   "metadata": {},
   "outputs": [
    {
     "data": {
      "text/plain": [
       "'with cte (hk,load_dts,rec_src,bk) as (\\n\\tselect md5(trim(src.tax_bundle_id::varchar(256))) \\n\\t,  current_timestamp \\n\\t,  v_report_taxation_bundle\\n\\t, src.tax_bundle_id\\n\\tfrom stage.v_report_taxation_bundle src\\n)\\ninsert into vault.hub_tax_bundle (hk_tax_bundle,load_dts,rec_src,tax_bundle_id)\\nselect distinct \\n\\thk\\n  , load_dts\\n  , rec_src\\n  , bk\\nfrom cte\\nwhere not exists \\n(\\n\\tselect 1 from vault.hub_tax_bundle tgt\\n\\twhere cte.hk = tgt.hk_tax_bundle\\n);'"
      ]
     },
     "execution_count": 44,
     "metadata": {},
     "output_type": "execute_result"
    }
   ],
   "source": [
    "sql.format(**params)"
   ]
  }
 ],
 "metadata": {
  "kernelspec": {
   "display_name": "Python 3",
   "language": "python",
   "name": "python3"
  },
  "language_info": {
   "codemirror_mode": {
    "name": "ipython",
    "version": 3
   },
   "file_extension": ".py",
   "mimetype": "text/x-python",
   "name": "python",
   "nbconvert_exporter": "python",
   "pygments_lexer": "ipython3",
   "version": "3.8.10"
  },
  "toc": {
   "base_numbering": 1,
   "nav_menu": {},
   "number_sections": true,
   "sideBar": true,
   "skip_h1_title": false,
   "title_cell": "Table of Contents",
   "title_sidebar": "Contents",
   "toc_cell": false,
   "toc_position": {},
   "toc_section_display": true,
   "toc_window_display": true
  }
 },
 "nbformat": 4,
 "nbformat_minor": 5
}
